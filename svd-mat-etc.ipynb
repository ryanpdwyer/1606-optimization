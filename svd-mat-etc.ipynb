{
 "cells": [
  {
   "cell_type": "code",
   "execution_count": 20,
   "metadata": {
    "collapsed": true
   },
   "outputs": [],
   "source": [
    "%matplotlib inline\n",
    "from __future__ import division\n",
    "import numpy as np\n",
    "import matplotlib.pyplot as plt\n",
    "from scipy import signal\n",
    "from scipy import linalg"
   ]
  },
  {
   "cell_type": "code",
   "execution_count": 99,
   "metadata": {
    "collapsed": true
   },
   "outputs": [],
   "source": [
    "N = 3\n",
    "scale=1\n",
    "h = np.array([0.2, 0.6, 0.2])\n",
    "M1 = 7\n",
    "M2 = 5\n",
    "Nx = 5\n",
    "x = np.reshape(np.array([0.25, 1., 0, 0.75, 0.5]), (5, 1))"
   ]
  },
  {
   "cell_type": "code",
   "execution_count": 100,
   "metadata": {
    "collapsed": false
   },
   "outputs": [],
   "source": [
    "h0 = h2 = 0.2\n",
    "h1 = 0.6"
   ]
  },
  {
   "cell_type": "code",
   "execution_count": 101,
   "metadata": {
    "collapsed": false
   },
   "outputs": [],
   "source": [
    "H = np.array([[h0, 0,0,0,0],\n",
    "          [h1, h0, 0, 0, 0],\n",
    "          [h2, h1, h0, 0, 0],\n",
    "          [0, h2, h1, h0, 0],\n",
    "          [0, 0, h2, h1, h0],\n",
    "          [0, 0, 0, h2, h1],\n",
    "          [0, 0, 0, 0, h2]])"
   ]
  },
  {
   "cell_type": "code",
   "execution_count": 102,
   "metadata": {
    "collapsed": false
   },
   "outputs": [],
   "source": [
    "def h2mat(h, M1, M2):\n",
    "    Hn = h.size\n",
    "    H = np.zeros((M1, M2))\n",
    "    for i in xrange(M1):\n",
    "        if i < Hn:\n",
    "            H[i, :i+1] = h[:i+1]\n",
    "        elif (i >= Hn) & (i < M2):\n",
    "            H[i, i-Hn+1: i+1] = h[:]\n",
    "        else:\n",
    "            istart = i - M2 + 1\n",
    "            H[i, i-Hn+1:] = h[istart:]\n",
    "    \n",
    "    return H"
   ]
  },
  {
   "cell_type": "code",
   "execution_count": 105,
   "metadata": {
    "collapsed": false
   },
   "outputs": [],
   "source": [
    "H = h2mat(h, 7, 5)"
   ]
  },
  {
   "cell_type": "code",
   "execution_count": null,
   "metadata": {
    "collapsed": true
   },
   "outputs": [],
   "source": []
  },
  {
   "cell_type": "code",
   "execution_count": 107,
   "metadata": {
    "collapsed": false
   },
   "outputs": [],
   "source": [
    "y = np.dot(H, x)"
   ]
  },
  {
   "cell_type": "code",
   "execution_count": 116,
   "metadata": {
    "collapsed": false
   },
   "outputs": [],
   "source": [
    "yn = y + np.random.randn(7, 1) * 0.25"
   ]
  },
  {
   "cell_type": "code",
   "execution_count": 119,
   "metadata": {
    "collapsed": false
   },
   "outputs": [
    {
     "data": {
      "text/plain": [
       "[<matplotlib.lines.Line2D at 0x1148a5c10>]"
      ]
     },
     "execution_count": 119,
     "metadata": {},
     "output_type": "execute_result"
    },
    {
     "data": {
      "image/png": "[encoded data removed]",
      "text/plain": [
       "<matplotlib.figure.Figure at 0x1148a5a50>"
      ]
     },
     "metadata": {},
     "output_type": "display_data"
    }
   ],
   "source": [
    "plt.plot(y)\n",
    "plt.plot(yn)"
   ]
  },
  {
   "cell_type": "code",
   "execution_count": 141,
   "metadata": {
    "collapsed": false
   },
   "outputs": [],
   "source": [
    "gauss_deriv = lambda x, sigma: x**2 * np.exp(-x**2/(2*sigma**2))"
   ]
  },
  {
   "cell_type": "code",
   "execution_count": 193,
   "metadata": {
    "collapsed": false
   },
   "outputs": [
    {
     "data": {
      "text/plain": [
       "[<matplotlib.lines.Line2D at 0x1189ae810>]"
      ]
     },
     "execution_count": 193,
     "metadata": {},
     "output_type": "execute_result"
    },
    {
     "data": {
      "image/png": "[encoded data removed]",
      "text/plain": [
       "<matplotlib.figure.Figure at 0x11886ad50>"
      ]
     },
     "metadata": {},
     "output_type": "display_data"
    }
   ],
   "source": [
    "N = 6001\n",
    "i1 = np.linspace(-30, 30, N)\n",
    "di = 0.01\n",
    "plt.plot(i1, gauss_deriv(i1, 2.0))"
   ]
  },
  {
   "cell_type": "code",
   "execution_count": 194,
   "metadata": {
    "collapsed": false
   },
   "outputs": [],
   "source": [
    "Ih = np.zeros((N, N))\n",
    "for i in range(N):\n",
    "    for j in range(N):\n",
    "        Ih[i, j] = i-j\n",
    "Ih = Ih * di"
   ]
  },
  {
   "cell_type": "code",
   "execution_count": 195,
   "metadata": {
    "collapsed": false
   },
   "outputs": [],
   "source": [
    "H_discrete = gauss_deriv(Ih, 2.0)"
   ]
  },
  {
   "cell_type": "code",
   "execution_count": 196,
   "metadata": {
    "collapsed": false
   },
   "outputs": [],
   "source": [
    "u, d, v = linalg.svd(H_discrete)"
   ]
  },
  {
   "cell_type": "code",
   "execution_count": 197,
   "metadata": {
    "collapsed": false
   },
   "outputs": [
    {
     "data": {
      "text/plain": [
       "[<matplotlib.lines.Line2D at 0x1188e4450>]"
      ]
     },
     "execution_count": 197,
     "metadata": {},
     "output_type": "execute_result"
    },
    {
     "data": {
      "image/png": "[encoded data removed]",
      "text/plain": [
       "<matplotlib.figure.Figure at 0x11887d710>"
      ]
     },
     "metadata": {},
     "output_type": "display_data"
    }
   ],
   "source": [
    "plt.semilogy(d)"
   ]
  },
  {
   "cell_type": "code",
   "execution_count": 199,
   "metadata": {
    "collapsed": false
   },
   "outputs": [
    {
     "data": {
      "image/png": "[encoded data removed]",
      "text/plain": [
       "<matplotlib.figure.Figure at 0x1189b7e50>"
      ]
     },
     "metadata": {},
     "output_type": "display_data"
    }
   ],
   "source": [
    "for i in xrange(5):\n",
    "    plt.plot(u.T[i]*-1)"
   ]
  },
  {
   "cell_type": "code",
   "execution_count": 145,
   "metadata": {
    "collapsed": false
   },
   "outputs": [],
   "source": [
    "h = gauss_deriv(i, 2.0)"
   ]
  },
  {
   "cell_type": "code",
   "execution_count": 151,
   "metadata": {
    "collapsed": false
   },
   "outputs": [],
   "source": [
    "hr = h.reshape((1, 101))"
   ]
  },
  {
   "cell_type": "code",
   "execution_count": 154,
   "metadata": {
    "collapsed": false
   },
   "outputs": [
    {
     "data": {
      "text/plain": [
       "array([[  3.72665317e-04,   5.87147067e-04,   9.15103117e-04,\n",
       "          1.41082503e-03,   2.15149349e-03,   3.24528909e-03,\n",
       "          4.84166525e-03,   7.14404888e-03,   1.04251243e-02,\n",
       "          1.50446672e-02,   2.14696082e-02,   3.02956078e-02,\n",
       "          4.22689077e-02,   5.83065991e-02,   7.95127456e-02,\n",
       "          1.07187065e-01,   1.42822200e-01,   1.88085111e-01,\n",
       "          2.44777898e-01,   3.14773667e-01,   3.99923875e-01,\n",
       "          5.01935243e-01,   6.22216731e-01,   7.61700311e-01,\n",
       "          9.20643176e-01,   1.09842334e+00,   1.29334494e+00,\n",
       "          1.50247329e+00,   1.72152251e+00,   1.94481927e+00,\n",
       "          2.16536453e+00,   2.37501115e+00,   2.56476714e+00,\n",
       "          2.72522464e+00,   2.84710196e+00,   2.92187221e+00,\n",
       "          2.94243901e+00,   2.90380774e+00,   2.80369299e+00,\n",
       "          2.64300022e+00,   2.42612264e+00,   2.16100487e+00,\n",
       "          1.85894153e+00,   1.53410089e+00,   1.20278910e+00,\n",
       "          8.82496903e-01,   5.90794462e-01,   3.44159093e-01,\n",
       "          1.56831788e-01,   3.98004992e-02,   0.00000000e+00,\n",
       "          3.98004992e-02,   1.56831788e-01,   3.44159093e-01,\n",
       "          5.90794462e-01,   8.82496903e-01,   1.20278910e+00,\n",
       "          1.53410089e+00,   1.85894153e+00,   2.16100487e+00,\n",
       "          2.42612264e+00,   2.64300022e+00,   2.80369299e+00,\n",
       "          2.90380774e+00,   2.94243901e+00,   2.92187221e+00,\n",
       "          2.84710196e+00,   2.72522464e+00,   2.56476714e+00,\n",
       "          2.37501115e+00,   2.16536453e+00,   1.94481927e+00,\n",
       "          1.72152251e+00,   1.50247329e+00,   1.29334494e+00,\n",
       "          1.09842334e+00,   9.20643176e-01,   7.61700311e-01,\n",
       "          6.22216731e-01,   5.01935243e-01,   3.99923875e-01,\n",
       "          3.14773667e-01,   2.44777898e-01,   1.88085111e-01,\n",
       "          1.42822200e-01,   1.07187065e-01,   7.95127456e-02,\n",
       "          5.83065991e-02,   4.22689077e-02,   3.02956078e-02,\n",
       "          2.14696082e-02,   1.50446672e-02,   1.04251243e-02,\n",
       "          7.14404888e-03,   4.84166525e-03,   3.24528909e-03,\n",
       "          2.15149349e-03,   1.41082503e-03,   9.15103117e-04,\n",
       "          5.87147067e-04,   3.72665317e-04]])"
      ]
     },
     "execution_count": 154,
     "metadata": {},
     "output_type": "execute_result"
    }
   ],
   "source": [
    "hr "
   ]
  },
  {
   "cell_type": "markdown",
   "metadata": {},
   "source": [
    "# Compression"
   ]
  },
  {
   "cell_type": "code",
   "execution_count": 219,
   "metadata": {
    "collapsed": true
   },
   "outputs": [],
   "source": [
    "N = 100\n",
    "x = np.random.randn(N, N)"
   ]
  },
  {
   "cell_type": "code",
   "execution_count": 220,
   "metadata": {
    "collapsed": false
   },
   "outputs": [],
   "source": [
    "xu, xd, xv = linalg.svd(x)"
   ]
  },
  {
   "cell_type": "code",
   "execution_count": 229,
   "metadata": {
    "collapsed": false
   },
   "outputs": [],
   "source": [
    "i = np.argmax(np.cumsum(xd)/np.sum(xd) > 0.99)"
   ]
  },
  {
   "cell_type": "code",
   "execution_count": 255,
   "metadata": {
    "collapsed": false
   },
   "outputs": [
    {
     "data": {
      "text/plain": [
       "2.2762767581103977e-13"
      ]
     },
     "execution_count": 255,
     "metadata": {},
     "output_type": "execute_result"
    }
   ],
   "source": [
    "linalg.norm(x - np.dot(xu, np.dot(np.diagflat(xd), xv)))"
   ]
  },
  {
   "cell_type": "code",
   "execution_count": 265,
   "metadata": {
    "collapsed": false
   },
   "outputs": [
    {
     "data": {
      "text/plain": [
       "3.4329258041444537"
      ]
     },
     "execution_count": 265,
     "metadata": {},
     "output_type": "execute_result"
    }
   ],
   "source": [
    "linalg.norm(x - np.dot(xu[:, :i], np.dot(np.diagflat(xd[:i]), xv[:i, :])))"
   ]
  },
  {
   "cell_type": "code",
   "execution_count": 268,
   "metadata": {
    "collapsed": false
   },
   "outputs": [],
   "source": [
    "xapprox = np.dot(xu[:, :i], np.dot(np.diagflat(xd[:i]), xv[:i, :]))"
   ]
  },
  {
   "cell_type": "code",
   "execution_count": 270,
   "metadata": {
    "collapsed": false
   },
   "outputs": [
    {
     "data": {
      "text/plain": [
       "array([[-0.91935672, -2.48025968,  0.27418905, ..., -1.59667344,\n",
       "         0.30437105,  0.70269981],\n",
       "       [ 0.27206086, -2.18402507,  0.19666051, ..., -1.08024556,\n",
       "         1.46370639, -2.28756226],\n",
       "       [ 0.28436266, -0.17482899,  0.9593626 , ...,  1.47414398,\n",
       "        -1.06492138, -0.11154751],\n",
       "       ..., \n",
       "       [ 1.13489723,  2.29263497, -0.37508858, ..., -0.1715751 ,\n",
       "         1.09046102,  0.74750799],\n",
       "       [-0.87234468,  0.77116066,  0.23118753, ...,  0.75379912,\n",
       "         0.43435846, -0.06807941],\n",
       "       [-0.36293184, -2.33935441, -0.47195812, ..., -0.29979967,\n",
       "        -0.39988917, -0.88066571]])"
      ]
     },
     "execution_count": 270,
     "metadata": {},
     "output_type": "execute_result"
    }
   ],
   "source": [
    "x"
   ]
  },
  {
   "cell_type": "code",
   "execution_count": null,
   "metadata": {
    "collapsed": true
   },
   "outputs": [],
   "source": []
  },
  {
   "cell_type": "code",
   "execution_count": 278,
   "metadata": {
    "collapsed": false
   },
   "outputs": [
    {
     "data": {
      "text/plain": [
       "1.7889"
      ]
     },
     "execution_count": 278,
     "metadata": {},
     "output_type": "execute_result"
    }
   ],
   "source": [
    "(100*89 + 89*100 + 89) / 100**2"
   ]
  },
  {
   "cell_type": "code",
   "execution_count": 274,
   "metadata": {
    "collapsed": false
   },
   "outputs": [
    {
     "data": {
      "text/plain": [
       "[<matplotlib.lines.Line2D at 0x11c55d6d0>]"
      ]
     },
     "execution_count": 274,
     "metadata": {},
     "output_type": "execute_result"
    },
    {
     "data": {
      "image/png": "[encoded data removed]",
      "text/plain": [
       "<matplotlib.figure.Figure at 0x11c55d710>"
      ]
     },
     "metadata": {},
     "output_type": "display_data"
    }
   ],
   "source": [
    "plt.plot(np.sort(x.ravel()))\n",
    "plt.plot(np.sort(xapprox.ravel()))"
   ]
  },
  {
   "cell_type": "code",
   "execution_count": null,
   "metadata": {
    "collapsed": true
   },
   "outputs": [],
   "source": []
  }
 ],
 "metadata": {
  "kernelspec": {
   "display_name": "Python 2",
   "language": "python",
   "name": "python2"
  },
  "language_info": {
   "codemirror_mode": {
    "name": "ipython",
    "version": 2
   },
   "file_extension": ".py",
   "mimetype": "text/x-python",
   "name": "python",
   "nbconvert_exporter": "python",
   "pygments_lexer": "ipython2",
   "version": "2.7.11"
  }
 },
 "nbformat": 4,
 "nbformat_minor": 0
}
